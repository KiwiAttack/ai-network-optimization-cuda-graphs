{
 "cells": [
  {
   "cell_type": "markdown",
   "metadata": {},
   "source": [
    "# CIFAR10 Train Model with CUDAGraph"
   ]
  },
  {
   "cell_type": "markdown",
   "metadata": {},
   "source": [
    "## Setup"
   ]
  },
  {
   "cell_type": "code",
   "execution_count": 1,
   "metadata": {},
   "outputs": [
    {
     "name": "stderr",
     "output_type": "stream",
     "text": [
      "/home/00/dmehlhorn/.local/lib/python3.11/site-packages/tqdm/auto.py:21: TqdmWarning: IProgress not found. Please update jupyter and ipywidgets. See https://ipywidgets.readthedocs.io/en/stable/user_install.html\n",
      "  from .autonotebook import tqdm as notebook_tqdm\n"
     ]
    },
    {
     "name": "stdout",
     "output_type": "stream",
     "text": [
      "cuda:0\n"
     ]
    }
   ],
   "source": [
    "import torch\n",
    "import torch.optim as optim\n",
    "import torchvision\n",
    "import torchvision.transforms as transforms\n",
    "\n",
    "import matplotlib.pyplot as plt\n",
    "import numpy as np\n",
    "import time\n",
    "\n",
    "device = torch.device('cuda:0' if torch.cuda.is_available() else 'cpu')\n",
    "torch.manual_seed(0)\n",
    "\n",
    "# Assuming that we are on a CUDA machine, this should print a CUDA device:\n",
    "print(device)"
   ]
  },
  {
   "cell_type": "markdown",
   "metadata": {},
   "source": [
    "loads images for training and validation and shows shape"
   ]
  },
  {
   "cell_type": "code",
   "execution_count": 2,
   "metadata": {},
   "outputs": [
    {
     "name": "stdout",
     "output_type": "stream",
     "text": [
      "Files already downloaded and verified\n",
      "Files already downloaded and verified\n",
      "torch.Size([4, 3, 32, 32])\n",
      "torch.Size([4])\n"
     ]
    }
   ],
   "source": [
    "transform = transforms.Compose(\n",
    "    [transforms.ToTensor(),\n",
    "     transforms.Normalize((0.5, 0.5, 0.5), (0.5, 0.5, 0.5))])\n",
    "\n",
    "batch_size = 4\n",
    "\n",
    "trainset = torchvision.datasets.CIFAR10(root='./data', train=True,\n",
    "                                        download=True, transform=transform)\n",
    "trainloader = torch.utils.data.DataLoader(trainset, batch_size=batch_size,\n",
    "                                          shuffle=True, num_workers=2)\n",
    "\n",
    "testset = torchvision.datasets.CIFAR10(root='./data', train=False,\n",
    "                                       download=True, transform=transform)\n",
    "testloader = torch.utils.data.DataLoader(testset, batch_size=batch_size,\n",
    "                                         shuffle=False, num_workers=2)\n",
    "\n",
    "classes = ('plane', 'car', 'bird', 'cat',\n",
    "           'deer', 'dog', 'frog', 'horse', 'ship', 'truck')\n",
    "\n",
    "# show 1 trainloader dimension\n",
    "dataiter = iter(trainloader)\n",
    "images, labels = next(dataiter)\n",
    "print(images.shape)\n",
    "print(labels.shape)"
   ]
  },
  {
   "cell_type": "markdown",
   "metadata": {},
   "source": [
    "shows images"
   ]
  },
  {
   "cell_type": "code",
   "execution_count": 3,
   "metadata": {},
   "outputs": [
    {
     "data": {
      "image/png": "[encoded data removed]",
      "text/plain": [
       "<Figure size 640x480 with 1 Axes>"
      ]
     },
     "metadata": {},
     "output_type": "display_data"
    },
    {
     "name": "stdout",
     "output_type": "stream",
     "text": [
      "plane cat   bird  cat  \n"
     ]
    }
   ],
   "source": [
    "def imshow(img):\n",
    "    img = img / 2 + 0.5     # unnormalize\n",
    "    npimg = img.numpy()\n",
    "    plt.imshow(np.transpose(npimg, (1, 2, 0)))\n",
    "    plt.show()\n",
    "\n",
    "\n",
    "# get some random training images\n",
    "dataiter = iter(trainloader)\n",
    "images, labels = next(dataiter)\n",
    "\n",
    "# show images\n",
    "imshow(torchvision.utils.make_grid(images))\n",
    "# print labels\n",
    "print(' '.join(f'{classes[labels[j]]:5s}' for j in range(batch_size)))"
   ]
  },
  {
   "cell_type": "markdown",
   "metadata": {},
   "source": [
    "## Convolutional Neural Network (CNN)"
   ]
  },
  {
   "cell_type": "code",
   "execution_count": 4,
   "metadata": {},
   "outputs": [],
   "source": [
    "import torch.nn as nn\n",
    "import torch.nn.functional as F\n",
    "\n",
    "\n",
    "class Net(nn.Module):\n",
    "    def __init__(self):\n",
    "        super().__init__()\n",
    "        self.conv1 = nn.Conv2d(3, 6, 5)\n",
    "        self.pool = nn.MaxPool2d(2, 2)\n",
    "        self.conv2 = nn.Conv2d(6, 16, 5)\n",
    "        self.fc1 = nn.Linear(16 * 5 * 5, 120)\n",
    "        self.fc2 = nn.Linear(120, 84)\n",
    "        self.fc3 = nn.Linear(84, 10)\n",
    "\n",
    "    def forward(self, x):\n",
    "        x = self.pool(F.relu(self.conv1(x)))\n",
    "        x = self.pool(F.relu(self.conv2(x)))\n",
    "        x = torch.flatten(x, 1) # flatten all dimensions except batch\n",
    "        x = F.relu(self.fc1(x))\n",
    "        x = F.relu(self.fc2(x))\n",
    "        x = self.fc3(x)\n",
    "        return x\n",
    "\n",
    "\n",
    "net = Net().to(device)\n",
    "\n",
    "criterion = nn.CrossEntropyLoss()\n",
    "optimizer = optim.SGD(net.parameters(), lr=0.001, momentum=0.9)"
   ]
  },
  {
   "cell_type": "markdown",
   "metadata": {},
   "source": [
    "static inputs and output for Cuda Graphs"
   ]
  },
  {
   "cell_type": "code",
   "execution_count": 5,
   "metadata": {},
   "outputs": [],
   "source": [
    "# placeholder used for capture uses same transforms as training data\n",
    "static_input = torch.randn(batch_size, 3, 32, 32, device=device).float()\n",
    "static_labels =  torch.randint(0, 10, (batch_size,), device=device).long()\n",
    "for i, data in enumerate(trainloader, 0):\n",
    "    static_input.copy_(data[0])\n",
    "    static_labels.copy_(data[1])\n",
    "    break"
   ]
  },
  {
   "cell_type": "markdown",
   "metadata": {},
   "source": [
    "## Training"
   ]
  },
  {
   "cell_type": "code",
   "execution_count": 6,
   "metadata": {
    "scrolled": true
   },
   "outputs": [
    {
     "name": "stdout",
     "output_type": "stream",
     "text": [
      "epoch 1\n"
     ]
    },
    {
     "name": "stderr",
     "output_type": "stream",
     "text": [
      "[W kineto_shim.cpp:372] Profiler is not initialized: skipping step() invocation\n",
      "[W kineto_shim.cpp:372] Profiler is not initialized: skipping step() invocation\n",
      "[W kineto_shim.cpp:372] Profiler is not initialized: skipping step() invocation\n",
      "[W kineto_shim.cpp:372] Profiler is not initialized: skipping step() invocation\n",
      "[W kineto_shim.cpp:372] Profiler is not initialized: skipping step() invocation\n",
      "[W kineto_shim.cpp:372] Profiler is not initialized: skipping step() invocation\n",
      "[W kineto_shim.cpp:372] Profiler is not initialized: skipping step() invocation\n",
      "[W kineto_shim.cpp:372] Profiler is not initialized: skipping step() invocation\n",
      "[W kineto_shim.cpp:372] Profiler is not initialized: skipping step() invocation\n",
      "[W kineto_shim.cpp:372] Profiler is not initialized: skipping step() invocation\n",
      "[W kineto_shim.cpp:372] Profiler is not initialized: skipping step() invocation\n",
      "[W kineto_shim.cpp:372] Profiler is not initialized: skipping step() invocation\n",
      "[W kineto_shim.cpp:372] Profiler is not initialized: skipping step() invocation\n",
      "[W kineto_shim.cpp:372] Profiler is not initialized: skipping step() invocation\n",
      "[W kineto_shim.cpp:372] Profiler is not initialized: skipping step() invocation\n",
      "[W kineto_shim.cpp:372] Profiler is not initialized: skipping step() invocation\n",
      "[W kineto_shim.cpp:372] Profiler is not initialized: skipping step() invocation\n",
      "[W kineto_shim.cpp:372] Profiler is not initialized: skipping step() invocation\n",
      "[W kineto_shim.cpp:372] Profiler is not initialized: skipping step() invocation\n",
      "STAGE:2024-03-18 14:39:00 1243593:1243593 ActivityProfilerController.cpp:312] Completed Stage: Warm Up\n",
      "STAGE:2024-03-18 14:39:00 1243593:1243593 ActivityProfilerController.cpp:318] Completed Stage: Collection\n",
      "STAGE:2024-03-18 14:39:00 1243593:1243593 ActivityProfilerController.cpp:322] Completed Stage: Post Processing\n"
     ]
    },
    {
     "name": "stdout",
     "output_type": "stream",
     "text": [
      "[1,  2000] loss: 2.254\n",
      "[1,  4000] loss: 1.857\n",
      "[1,  6000] loss: 1.684\n",
      "[1,  8000] loss: 1.595\n",
      "[1, 10000] loss: 1.511\n",
      "[1, 12000] loss: 1.479\n",
      "epoch 2\n",
      "[2,  2000] loss: 1.384\n",
      "[2,  4000] loss: 1.376\n",
      "[2,  6000] loss: 1.360\n",
      "[2,  8000] loss: 1.304\n",
      "[2, 10000] loss: 1.304\n",
      "[2, 12000] loss: 1.284\n",
      "Finished Training\n",
      "Time taken: 28.88s\n",
      "Time taken with warmup and capture: 29.17s\n"
     ]
    }
   ],
   "source": [
    "start_time = time.perf_counter()\n",
    "# warmup to allow for memory allocation\n",
    "s = torch.cuda.Stream()\n",
    "s.wait_stream(torch.cuda.current_stream())\n",
    "with torch.cuda.stream(s):\n",
    "    for i in range(5):\n",
    "        optimizer.zero_grad()\n",
    "        static_output = net(static_input)\n",
    "        loss = criterion(static_output, static_labels)\n",
    "        loss.backward()\n",
    "        optimizer.step()\n",
    "torch.cuda.current_stream().wait_stream(s)\n",
    "torch.cuda.synchronize()\n",
    "\n",
    "# capture\n",
    "g = torch.cuda.CUDAGraph()\n",
    "optimizer.zero_grad(set_to_none=True)\n",
    "with torch.cuda.graph(g):\n",
    "    static_output = net(static_input)\n",
    "    static_loss = criterion(static_output, static_labels)\n",
    "    static_loss.backward()\n",
    "    optimizer.step()\n",
    "torch.cuda.synchronize()\n",
    "\n",
    "# training\n",
    "start_time1 = time.perf_counter()\n",
    "benchmark_schedule = torch.profiler.schedule(wait=20, warmup=2, active=5, repeat=1)\n",
    "with torch.profiler.profile(\n",
    "    schedule=benchmark_schedule,\n",
    "    on_trace_ready=torch.profiler.tensorboard_trace_handler(f'./log/v100/training_cudagraph_batch{batch_size}'),\n",
    "    record_shapes=True,\n",
    ") as prof:\n",
    "    for epoch in range(2):  # loop over the dataset multiple times\n",
    "        print(f'epoch {epoch + 1}')\n",
    "        running_loss = 0.0\n",
    "\n",
    "        for i, data in enumerate(trainloader, 0):\n",
    "            # get the inputs; data is a list of [inputs, labels]\n",
    "            static_input.copy_(data[0])\n",
    "            static_labels.copy_(data[1])\n",
    "\n",
    "            # replay\n",
    "            g.replay()\n",
    "\n",
    "            torch.cuda.synchronize()\n",
    "\n",
    "            # print statistics\n",
    "            running_loss += static_loss.item()\n",
    "            if i % 2000 == 1999:    # print every 2000 mini-batches\n",
    "                print(f'[{epoch + 1}, {i + 1:5d}] loss: {running_loss / 2000:.3f}')\n",
    "                running_loss = 0.0\n",
    "\n",
    "            prof.step()\n",
    "\n",
    "end_time = time.perf_counter()\n",
    "print('Finished Training')\n",
    "print(f'Time taken: {end_time - start_time1:.2f}s')\n",
    "print(f'Time taken with warmup and capture: {end_time - start_time:.2f}s')"
   ]
  },
  {
   "cell_type": "markdown",
   "metadata": {},
   "source": [
    "save model"
   ]
  },
  {
   "cell_type": "code",
   "execution_count": 7,
   "metadata": {},
   "outputs": [],
   "source": [
    "PATH = f'./model/cifar_net_CUDAGraph{batch_size}.pth'\n",
    "torch.save(net.state_dict(), PATH)"
   ]
  },
  {
   "cell_type": "markdown",
   "metadata": {},
   "source": [
    "validation"
   ]
  },
  {
   "cell_type": "code",
   "execution_count": 8,
   "metadata": {},
   "outputs": [
    {
     "data": {
      "image/png": "[encoded data removed]",
      "text/plain": [
       "<Figure size 640x480 with 1 Axes>"
      ]
     },
     "metadata": {},
     "output_type": "display_data"
    },
    {
     "name": "stdout",
     "output_type": "stream",
     "text": [
      "GroundTruth:  cat   ship  ship  plane\n"
     ]
    }
   ],
   "source": [
    "dataiter = iter(testloader)\n",
    "images, labels = next(dataiter)\n",
    "\n",
    "# print images\n",
    "imshow(torchvision.utils.make_grid(images))\n",
    "print('GroundTruth: ', ' '.join(f'{classes[labels[j]]:5s}' for j in range(batch_size)))"
   ]
  },
  {
   "cell_type": "code",
   "execution_count": 9,
   "metadata": {},
   "outputs": [
    {
     "name": "stdout",
     "output_type": "stream",
     "text": [
      "Predicted:  cat   ship  truck plane\n",
      "torch.Size([4, 10])\n"
     ]
    }
   ],
   "source": [
    "net = Net().to(device)\n",
    "net.load_state_dict(torch.load(PATH))\n",
    "\n",
    "outputs = net(images.to(device))\n",
    "\n",
    "_, predicted = torch.max(outputs, 1)\n",
    "\n",
    "print('Predicted: ', ' '.join(f'{classes[predicted[j]]:5s}'\n",
    "                              for j in range(batch_size)))\n",
    "\n",
    "# print shape of output tensor\n",
    "print(outputs.shape)"
   ]
  },
  {
   "cell_type": "markdown",
   "metadata": {},
   "source": [
    "performance for whole dataset"
   ]
  },
  {
   "cell_type": "code",
   "execution_count": 10,
   "metadata": {},
   "outputs": [
    {
     "name": "stderr",
     "output_type": "stream",
     "text": [
      "STAGE:2024-03-18 14:39:29 1243593:1243593 ActivityProfilerController.cpp:312] Completed Stage: Warm Up\n",
      "STAGE:2024-03-18 14:39:29 1243593:1243593 ActivityProfilerController.cpp:318] Completed Stage: Collection\n",
      "STAGE:2024-03-18 14:39:29 1243593:1243593 ActivityProfilerController.cpp:322] Completed Stage: Post Processing\n"
     ]
    },
    {
     "name": "stdout",
     "output_type": "stream",
     "text": [
      "Accuracy of the network on the 10000 test images: 53 %\n",
      "Time taken: 3.00s\n",
      "Time taken with warmup and capture: 3.07s\n"
     ]
    }
   ],
   "source": [
    "correct = 0\n",
    "total = 0\n",
    "static_input.copy_(images) # copy data for warmup into input\n",
    "\n",
    "start_time = time.perf_counter()\n",
    "# warmup\n",
    "s = torch.cuda.Stream()\n",
    "s.wait_stream(torch.cuda.current_stream())\n",
    "with torch.cuda.stream(s):\n",
    "    for _ in range(5):\n",
    "        static_output = net(static_input)\n",
    "torch.cuda.current_stream().wait_stream(s)\n",
    "torch.cuda.synchronize()\n",
    "\n",
    "# capture\n",
    "g = torch.cuda.CUDAGraph()\n",
    "with torch.cuda.graph(g):\n",
    "    static_output = net(static_input)\n",
    "torch.cuda.synchronize()\n",
    "\n",
    "start_time1 = time.perf_counter()\n",
    "# since we're not training, we don't need to calculate the gradients for our outputs\n",
    "benchmark_schedule = torch.profiler.schedule(wait=20, warmup=2, active=5, repeat=1)\n",
    "with torch.no_grad(), torch.profiler.profile(\n",
    "    schedule=benchmark_schedule,\n",
    "    on_trace_ready=torch.profiler.tensorboard_trace_handler(f'./log/v100/validation_cudagraph_batch{batch_size}'),\n",
    "    record_shapes=True,\n",
    ") as prof:\n",
    "    for data in testloader:\n",
    "\n",
    "        # copy data\n",
    "        static_input.copy_(data[0])\n",
    "        static_labels.copy_(data[1])\n",
    "\n",
    "        # replay graph\n",
    "        g.replay()\n",
    "\n",
    "        torch.cuda.synchronize()\n",
    "\n",
    "        # the class with the highest energy is what we choose as prediction\n",
    "        _, predicted = torch.max(static_output.data, 1)\n",
    "        total += static_labels.size(0)\n",
    "        correct += (predicted == static_labels).sum().item()\n",
    "        prof.step()\n",
    "\n",
    "end_time = time.perf_counter()\n",
    "print(f'Accuracy of the network on the 10000 test images: {100 * correct // total} %')\n",
    "print(f'Time taken: {end_time - start_time1:.2f}s')\n",
    "print(f'Time taken with warmup and capture: {end_time - start_time:.2f}s')"
   ]
  }
 ],
 "metadata": {
  "kernelspec": {
   "display_name": "Python 3 (ipykernel)",
   "language": "python",
   "name": "python3"
  },
  "language_info": {
   "codemirror_mode": {
    "name": "ipython",
    "version": 3
   },
   "file_extension": ".py",
   "mimetype": "text/x-python",
   "name": "python",
   "nbconvert_exporter": "python",
   "pygments_lexer": "ipython3",
   "version": "3.11.3"
  }
 },
 "nbformat": 4,
 "nbformat_minor": 4
}
